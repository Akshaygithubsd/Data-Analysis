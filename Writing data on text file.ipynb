{
 "cells": [
  {
   "cell_type": "code",
   "execution_count": 1,
   "id": "6189b4cb-e992-4912-8dd2-96a95df4e092",
   "metadata": {},
   "outputs": [],
   "source": [
    "fd=open('Akshay.txt','w')\n",
    "fd.write(\"Hello I'm Akshya\")\n",
    "fd.close()"
   ]
  },
  {
   "cell_type": "code",
   "execution_count": 2,
   "id": "fbcd4713-7b29-4862-b431-ce1e3a102b3e",
   "metadata": {},
   "outputs": [],
   "source": [
    "## in append mode if u want to add multi lines in same txt file , file should be in append mode "
   ]
  },
  {
   "cell_type": "code",
   "execution_count": 3,
   "id": "3948cc63-6c75-4103-b208-30f55d9639a5",
   "metadata": {},
   "outputs": [],
   "source": [
    "fd=open('Akshay.txt','a')\n",
    "fd.write(\"hello name \\n\")\n",
    "fd.close()"
   ]
  },
  {
   "cell_type": "code",
   "execution_count": null,
   "id": "3797a243-fc7c-4528-a40f-d225ddf957f2",
   "metadata": {},
   "outputs": [],
   "source": [
    "fd=open('Akshay.txt','a')\n",
    "text=input(\"enter the text: \")\n",
    "text=text+ '.\\n'\n",
    "fd.write(text)\n",
    "fd.close()"
   ]
  },
  {
   "cell_type": "code",
   "execution_count": null,
   "id": "47060070-b720-484c-9ada-cd764b139d5f",
   "metadata": {},
   "outputs": [],
   "source": []
  },
  {
   "cell_type": "code",
   "execution_count": null,
   "id": "43c02c36-141b-4f71-8564-9ff08eeb66e8",
   "metadata": {},
   "outputs": [],
   "source": []
  }
 ],
 "metadata": {
  "kernelspec": {
   "display_name": "Python 3 (ipykernel)",
   "language": "python",
   "name": "python3"
  },
  "language_info": {
   "codemirror_mode": {
    "name": "ipython",
    "version": 3
   },
   "file_extension": ".py",
   "mimetype": "text/x-python",
   "name": "python",
   "nbconvert_exporter": "python",
   "pygments_lexer": "ipython3",
   "version": "3.12.4"
  }
 },
 "nbformat": 4,
 "nbformat_minor": 5
}
