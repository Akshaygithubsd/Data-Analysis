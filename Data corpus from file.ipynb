{
 "cells": [
  {
   "cell_type": "code",
   "execution_count": 37,
   "id": "152318bc-0032-42b3-a9cf-112a799330f9",
   "metadata": {},
   "outputs": [],
   "source": [
    "fd=open('large data.txt','r')\n",
    "f=fd.read()\n",
    "fd.close()\n",
    "\n"
   ]
  },
  {
   "cell_type": "code",
   "execution_count": 39,
   "id": "863b2194-12ad-4bf2-8caa-16d5c531fc92",
   "metadata": {},
   "outputs": [
    {
     "data": {
      "text/plain": [
       "'Artificial Intelligence (AI) is a fast progressing domain in the tech industry. It provides technology the ability to process real world objects and hence gives it the possibility to interact with them. Most common type of AI apps uses natural language processing.\\n\\nAI objects uses large dictionaries which specifies how to react to various actions. The lasrge amount of dictionary gives it more intelligence in terms of technology. They sometimes also uses various decision taking algorithms which too makes a good usage of AI.\\n\\nWe are also working on various apps related to AI that can make interaction with AI of non tech common person easier.'"
      ]
     },
     "execution_count": 39,
     "metadata": {},
     "output_type": "execute_result"
    }
   ],
   "source": [
    "f"
   ]
  },
  {
   "cell_type": "code",
   "execution_count": 43,
   "id": "05445734-c145-40ab-b287-ffd8154f907b",
   "metadata": {},
   "outputs": [
    {
     "data": {
      "text/plain": [
       "'Artificial Intelligence (AI) is a fast progressing domain in the tech industry. It provides technology the ability to process real world objects and hence gives it the possibility to interact with them. Most common type of AI apps uses natural language processing. AI objects uses large dictionaries which specifies how to react to various actions. The lasrge amount of dictionary gives it more intelligence in terms of technology. They sometimes also uses various decision taking algorithms which too makes a good usage of AI. We are also working on various apps related to AI that can make interaction with AI of non tech common person easier.'"
      ]
     },
     "execution_count": 43,
     "metadata": {},
     "output_type": "execute_result"
    }
   ],
   "source": [
    "f.replace(\"\\n\\n\",' ')"
   ]
  },
  {
   "cell_type": "code",
   "execution_count": 41,
   "id": "b9603848-7d4c-4c0b-a7b6-d472c7973bc3",
   "metadata": {},
   "outputs": [
    {
     "name": "stdout",
     "output_type": "stream",
     "text": [
      "Artificial Intelligence (AI) is a fast progressing domain in the tech industry. It provides technology the ability to process real world objects and hence gives it the possibility to interact with them. Most common type of AI apps uses natural language processing.\n",
      "\n",
      "AI objects uses large dictionaries which specifies how to react to various actions. The lasrge amount of dictionary gives it more intelligence in terms of technology. They sometimes also uses various decision taking algorithms which too makes a good usage of AI.\n",
      "\n",
      "We are also working on various apps related to AI that can make interaction with AI of non tech common person easier.\n"
     ]
    }
   ],
   "source": [
    "print(f)"
   ]
  },
  {
   "cell_type": "code",
   "execution_count": null,
   "id": "a01bd395-7587-40a2-b9b7-3f7385de54e8",
   "metadata": {},
   "outputs": [],
   "source": []
  }
 ],
 "metadata": {
  "kernelspec": {
   "display_name": "Python 3 (ipykernel)",
   "language": "python",
   "name": "python3"
  },
  "language_info": {
   "codemirror_mode": {
    "name": "ipython",
    "version": 3
   },
   "file_extension": ".py",
   "mimetype": "text/x-python",
   "name": "python",
   "nbconvert_exporter": "python",
   "pygments_lexer": "ipython3",
   "version": "3.12.4"
  }
 },
 "nbformat": 4,
 "nbformat_minor": 5
}
