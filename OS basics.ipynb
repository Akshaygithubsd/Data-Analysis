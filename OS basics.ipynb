{
 "cells": [
  {
   "cell_type": "code",
   "execution_count": 1,
   "id": "0a97fd01-20ed-4b5a-8a16-07b2829a0ada",
   "metadata": {},
   "outputs": [],
   "source": [
    "import os"
   ]
  },
  {
   "cell_type": "code",
   "execution_count": 3,
   "id": "b6911dad-d94a-4c5e-b92f-e640cd7aff9a",
   "metadata": {},
   "outputs": [
    {
     "data": {
      "text/plain": [
       "'C:\\\\Users\\\\mansi\\\\OneDrive\\\\Desktop'"
      ]
     },
     "execution_count": 3,
     "metadata": {},
     "output_type": "execute_result"
    }
   ],
   "source": [
    "os.getcwd()\n",
    "#os lib cmd"
   ]
  },
  {
   "cell_type": "code",
   "execution_count": 5,
   "id": "54dd77c4-f196-4aec-90d9-f47b0c6e9cb1",
   "metadata": {},
   "outputs": [
    {
     "data": {
      "text/plain": [
       "'C:\\\\Users\\\\mansi\\\\OneDrive\\\\Desktop'"
      ]
     },
     "execution_count": 5,
     "metadata": {},
     "output_type": "execute_result"
    }
   ],
   "source": [
    "pwd\n",
    "#terminal cmd"
   ]
  },
  {
   "cell_type": "code",
   "execution_count": 7,
   "id": "f8282754-0b9a-4e4f-a06c-d289bda3495c",
   "metadata": {},
   "outputs": [
    {
     "name": "stdout",
     "output_type": "stream",
     "text": [
      " Volume in drive C is OS\n",
      " Volume Serial Number is A492-CF05\n",
      "\n",
      " Directory of C:\\Users\\mansi\\OneDrive\\Desktop\n",
      "\n",
      "07-07-2025  17:40    <DIR>          .\n",
      "07-07-2025  10:51    <DIR>          ..\n",
      "07-07-2025  17:40    <DIR>          .ipynb_checkpoints\n",
      "29-06-2025  12:49    <DIR>          8th sem\n",
      "01-07-2025  13:44                29 Akshay.txt\n",
      "29-06-2025  13:36             3,848 Data corpus from file.ipynb\n",
      "29-06-2025  12:56             1,014 Data Reading from file.ipynb\n",
      "01-07-2025  12:30             3,872 data tech.txt\n",
      "29-06-2025  12:51                42 data.txt\n",
      "29-06-2025  13:38            63,196 file reading.png\n",
      "30-04-2024  17:55             2,375 GitHub Desktop.lnk\n",
      "07-07-2025  17:40    <DIR>          IMS  JSON\n",
      "03-07-2025  19:50             4,514 Inventory Management.ipynb\n",
      "05-07-2025  17:55             7,808 inventory.txt\n",
      "29-06-2025  13:20               651 large data.txt\n",
      "28-05-2025  22:19           115,193 mansi internship cerf.pdf\n",
      "28-05-2025  22:18            72,760 mansi.docx\n",
      "28-05-2025  22:15           182,270 mansi.pdf\n",
      "07-07-2025  17:40                72 OS basics.ipynb\n",
      "23-05-2025  21:54    <DIR>          Place\n",
      "01-07-2025  13:49    <DIR>          python\n",
      "01-07-2025  13:21            13,508 Text processing.ipynb\n",
      "14-12-2023  22:19             1,406 Visual Studio Code.lnk\n",
      "01-07-2025  13:58             1,869 Writing data on text file.ipynb\n",
      "              17 File(s)        474,427 bytes\n",
      "               7 Dir(s)  33,745,829,888 bytes free\n"
     ]
    }
   ],
   "source": [
    "ls"
   ]
  },
  {
   "cell_type": "code",
   "execution_count": null,
   "id": "a20bf47b-9d81-4e15-908f-96216f54105d",
   "metadata": {},
   "outputs": [],
   "source": [
    "os.chdir(\"dir_name\")\n",
    "os.getcwd()\n",
    "#to go in particular dir."
   ]
  },
  {
   "cell_type": "code",
   "execution_count": null,
   "id": "7db71d69-e584-46d0-8a35-2889b3bbf24e",
   "metadata": {},
   "outputs": [],
   "source": [
    "os.mkdir(\"new dir name\")\n",
    "#cmd to create dir"
   ]
  },
  {
   "cell_type": "code",
   "execution_count": null,
   "id": "211ad861-e092-4598-b3aa-6b7aa5acd8f6",
   "metadata": {},
   "outputs": [],
   "source": [
    "os.makedirs(\"fj/fj\")\n",
    "#to create hierarchical directories"
   ]
  }
 ],
 "metadata": {
  "kernelspec": {
   "display_name": "Python 3 (ipykernel)",
   "language": "python",
   "name": "python3"
  },
  "language_info": {
   "codemirror_mode": {
    "name": "ipython",
    "version": 3
   },
   "file_extension": ".py",
   "mimetype": "text/x-python",
   "name": "python",
   "nbconvert_exporter": "python",
   "pygments_lexer": "ipython3",
   "version": "3.12.4"
  }
 },
 "nbformat": 4,
 "nbformat_minor": 5
}
