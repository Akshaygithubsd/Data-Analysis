{
 "cells": [
  {
   "cell_type": "code",
   "execution_count": 22,
   "id": "c01bf95d-5d73-41be-8405-f8ad5db110a4",
   "metadata": {},
   "outputs": [],
   "source": [
    "fd=open(\"inventory.txt\",'w')\n",
    "fd.close()"
   ]
  },
  {
   "cell_type": "markdown",
   "id": "f29e6f23-3e51-41bc-90a0-4b00865bced4",
   "metadata": {},
   "source": [
    "## Product Details\n",
    "1. product id\n",
    "2. Name of product\n",
    "3. price of product\n",
    "4. Quantity"
   ]
  },
  {
   "cell_type": "code",
   "execution_count": 24,
   "id": "d2400560-97ba-4b70-a800-5bc72dde4161",
   "metadata": {},
   "outputs": [],
   "source": [
    "fd=open(\"inventory.txt\",'r')\n",
    "p= fd.read()\n",
    "fd.close()"
   ]
  },
  {
   "cell_type": "code",
   "execution_count": 26,
   "id": "8974c217-9aca-45f3-8182-1de95013722e",
   "metadata": {},
   "outputs": [
    {
     "name": "stdout",
     "output_type": "stream",
     "text": [
      "\n"
     ]
    }
   ],
   "source": [
    "print(p)"
   ]
  },
  {
   "cell_type": "code",
   "execution_count": 28,
   "id": "8da22d15-14be-4b08-b45f-7b4bfaca54c8",
   "metadata": {},
   "outputs": [
    {
     "data": {
      "text/plain": [
       "['']"
      ]
     },
     "execution_count": 28,
     "metadata": {},
     "output_type": "execute_result"
    }
   ],
   "source": [
    "res= p.split(\"\\n\")\n",
    "res\n"
   ]
  },
  {
   "cell_type": "code",
   "execution_count": 30,
   "id": "b59f80fc-5494-4ad5-80ce-cd6c77695f90",
   "metadata": {},
   "outputs": [
    {
     "data": {
      "text/plain": [
       "1"
      ]
     },
     "execution_count": 30,
     "metadata": {},
     "output_type": "execute_result"
    }
   ],
   "source": [
    "len(res)"
   ]
  },
  {
   "cell_type": "code",
   "execution_count": 32,
   "id": "81184830-9674-4020-99c1-e0350e05b2d6",
   "metadata": {},
   "outputs": [
    {
     "name": "stdout",
     "output_type": "stream",
     "text": [
      "\n"
     ]
    }
   ],
   "source": [
    "for i in res:\n",
    "     print(i)\n",
    "    # print(i.split(\",\"))\n",
    "    "
   ]
  },
  {
   "cell_type": "code",
   "execution_count": null,
   "id": "f2f853cc-4600-401f-bb25-c726c8a2aaea",
   "metadata": {},
   "outputs": [],
   "source": [
    "ui_prod_id=input(\"enter product ID\")\n",
    "\n",
    "for j in res:\n",
    "    if(j.split(',')[0]==ui_prod_id):\n",
    "        print(j)"
   ]
  },
  {
   "cell_type": "code",
   "execution_count": 20,
   "id": "9c8110ea-5bf8-460e-82e0-13b7b479e861",
   "metadata": {},
   "outputs": [
    {
     "name": "stdin",
     "output_type": "stream",
     "text": [
      "enter product ID: 2\n",
      "enter prod quantity: 2\n"
     ]
    }
   ],
   "source": [
    "ui_prod_id=input(\"enter product ID:\")\n",
    "ui_prod_qn=input(\"enter prod quantity:\")\n",
    "updated_list=[]\n",
    "for i in res:\n",
    "    prod_details=i.split(',')\n",
    "    if(prod_details[0]==ui_prod_id):\n",
    "        print(\"Product Name: \",prod_details[1])\n",
    "        print(\"Price       : \",prod_details[2])\n",
    "        print(\"Quantity    : \",ui_prod_qn)\n",
    "        q=int(prod_details[2])*int(ui_prod_qn)\n",
    "        print(\"Total bill  : \",q)\n",
    "        quant=int(prod_details[3])-int(ui_prod_qn)\n",
    "        prod_details[3]=str(quant)\n",
    "        updated_list.append(prod_details)\n",
    "        print(prod_details)\n",
    "        \n"
   ]
  },
  {
   "cell_type": "code",
   "execution_count": null,
   "id": "ad34ee22-e017-470c-8e1e-1ce446b87f13",
   "metadata": {},
   "outputs": [],
   "source": [
    "for i in updated_list:\n",
    "    prod=i[0] +\",\"+i[1]+\",\"+i[2]+\",\"+i[3]\n",
    "    print(prod)"
   ]
  },
  {
   "cell_type": "code",
   "execution_count": null,
   "id": "8ce775eb-1dff-4008-a098-874cdb86e3f2",
   "metadata": {},
   "outputs": [],
   "source": [
    "fd=open(\"inventory.txt\",'w')\n",
    "for i in updated_list:\n",
    "    prod=i[0] +\",\"+i[1]+\",\"+i[2]+\",\"+i[3]+'\\n'\n",
    "    fd.write(prod)\n",
    "fd.close()"
   ]
  }
 ],
 "metadata": {
  "kernelspec": {
   "display_name": "Python 3 (ipykernel)",
   "language": "python",
   "name": "python3"
  },
  "language_info": {
   "codemirror_mode": {
    "name": "ipython",
    "version": 3
   },
   "file_extension": ".py",
   "mimetype": "text/x-python",
   "name": "python",
   "nbconvert_exporter": "python",
   "pygments_lexer": "ipython3",
   "version": "3.12.4"
  }
 },
 "nbformat": 4,
 "nbformat_minor": 5
}
