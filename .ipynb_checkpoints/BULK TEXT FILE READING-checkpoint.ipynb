{
 "cells": [
  {
   "cell_type": "code",
   "execution_count": 1,
   "id": "6312846a-2357-4624-bbef-d13aa50117dd",
   "metadata": {},
   "outputs": [],
   "source": [
    "import os"
   ]
  },
  {
   "cell_type": "code",
   "execution_count": 5,
   "id": "13944422-c712-493a-a588-7b7f687aa40d",
   "metadata": {},
   "outputs": [
    {
     "data": {
      "text/plain": [
       "['h - Copy (2).txt',\n",
       " 'h - Copy (3).txt',\n",
       " 'h - Copy (4).txt',\n",
       " 'h - Copy (5).txt',\n",
       " 'h - Copy (6).txt',\n",
       " 'h - Copy.txt',\n",
       " 'h.txt']"
      ]
     },
     "execution_count": 5,
     "metadata": {},
     "output_type": "execute_result"
    }
   ],
   "source": [
    "sav=os.listdir('files')\n",
    "sav\n",
    "#will get name of files pres in this folder(files)"
   ]
  },
  {
   "cell_type": "code",
   "execution_count": 7,
   "id": "3a38ded4-be86-4d87-9ae5-2e62fe0aeb2a",
   "metadata": {},
   "outputs": [
    {
     "data": {
      "text/plain": [
       "7"
      ]
     },
     "execution_count": 7,
     "metadata": {},
     "output_type": "execute_result"
    }
   ],
   "source": [
    "len(sav)"
   ]
  },
  {
   "cell_type": "code",
   "execution_count": 9,
   "id": "56e71e6b-ec9f-4e5e-b901-b7b9432c8b7f",
   "metadata": {},
   "outputs": [
    {
     "data": {
      "text/plain": [
       "list"
      ]
     },
     "execution_count": 9,
     "metadata": {},
     "output_type": "execute_result"
    }
   ],
   "source": [
    "type(sav)"
   ]
  },
  {
   "cell_type": "code",
   "execution_count": 11,
   "id": "878c2db4-733f-4252-b9ca-dfdfba12c5ce",
   "metadata": {},
   "outputs": [
    {
     "name": "stdout",
     "output_type": "stream",
     "text": [
      "h - Copy (2).txt\n",
      "h - Copy (3).txt\n",
      "h - Copy (4).txt\n",
      "h - Copy (5).txt\n",
      "h - Copy (6).txt\n",
      "h - Copy.txt\n",
      "h.txt\n"
     ]
    }
   ],
   "source": [
    "for i in sav:\n",
    "    print(i)"
   ]
  },
  {
   "cell_type": "code",
   "execution_count": 19,
   "id": "cccbef87-a0c0-47f2-bd85-eb8d1669ef7f",
   "metadata": {},
   "outputs": [
    {
     "name": "stdout",
     "output_type": "stream",
     "text": [
      "hiii I,m akshay\n",
      "hello I,m akshay\n",
      "hi I,m akshay aiml\n",
      "hi I,m akshay mit\n",
      "hi I,m akshay kr\n",
      "hi I,m akshay bh\n",
      "hi I,m akshay\n"
     ]
    }
   ],
   "source": [
    "for i in sav:\n",
    "    fd=open('files/'+i,'r')\n",
    "    print(fd.read())\n",
    "    fd.close()\n",
    "   # print(i)\n",
    "#reading multiple files"
   ]
  },
  {
   "cell_type": "code",
   "execution_count": 25,
   "id": "c2b141ac-f506-4b9d-8d8a-9cd624311039",
   "metadata": {},
   "outputs": [],
   "source": [
    "#writing and saving data of all multi files in a single file \n",
    "fd_write=open('data.txt','a')\n",
    "for i in sav:\n",
    "    fd_read=open('files/'+i,'r')\n",
    "    fd_write.write(fd_read.read())\n",
    "    \n",
    "    fd_read.close()\n",
    "fd_write.close()\n"
   ]
  },
  {
   "cell_type": "code",
   "execution_count": null,
   "id": "680b8484-87ae-4cc6-8527-c166c30861dc",
   "metadata": {},
   "outputs": [],
   "source": []
  }
 ],
 "metadata": {
  "kernelspec": {
   "display_name": "Python 3 (ipykernel)",
   "language": "python",
   "name": "python3"
  },
  "language_info": {
   "codemirror_mode": {
    "name": "ipython",
    "version": 3
   },
   "file_extension": ".py",
   "mimetype": "text/x-python",
   "name": "python",
   "nbconvert_exporter": "python",
   "pygments_lexer": "ipython3",
   "version": "3.12.4"
  }
 },
 "nbformat": 4,
 "nbformat_minor": 5
}
