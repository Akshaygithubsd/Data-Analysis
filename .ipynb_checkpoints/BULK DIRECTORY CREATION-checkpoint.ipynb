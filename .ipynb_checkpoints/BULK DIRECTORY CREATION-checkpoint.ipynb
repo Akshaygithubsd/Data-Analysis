{
 "cells": [
  {
   "cell_type": "code",
   "execution_count": 10,
   "id": "4958cdbb-9ba3-4735-871d-58be750139a4",
   "metadata": {},
   "outputs": [],
   "source": [
    "import os"
   ]
  },
  {
   "cell_type": "code",
   "execution_count": 17,
   "id": "b9da4293-3c82-43b8-af7b-c808146d4119",
   "metadata": {},
   "outputs": [],
   "source": [
    "for i in range(10):\n",
    "    name=\"Test/Test\"+str(i+1)\n",
    "    #print(name)\n",
    "#creating multiple directory, creates 10 folder inside test dir\n",
    "    os.mkdir(name)"
   ]
  },
  {
   "cell_type": "code",
   "execution_count": 19,
   "id": "dfe159f1-0df6-4e7a-86c4-ad63853a7242",
   "metadata": {},
   "outputs": [],
   "source": [
    "!mkdir Akshay\n",
    "#to create a directory"
   ]
  },
  {
   "cell_type": "code",
   "execution_count": null,
   "id": "2ea4324c-8595-4bfb-bae1-0bb10b4532b5",
   "metadata": {},
   "outputs": [],
   "source": []
  }
 ],
 "metadata": {
  "kernelspec": {
   "display_name": "Python 3 (ipykernel)",
   "language": "python",
   "name": "python3"
  },
  "language_info": {
   "codemirror_mode": {
    "name": "ipython",
    "version": 3
   },
   "file_extension": ".py",
   "mimetype": "text/x-python",
   "name": "python",
   "nbconvert_exporter": "python",
   "pygments_lexer": "ipython3",
   "version": "3.12.4"
  }
 },
 "nbformat": 4,
 "nbformat_minor": 5
}
