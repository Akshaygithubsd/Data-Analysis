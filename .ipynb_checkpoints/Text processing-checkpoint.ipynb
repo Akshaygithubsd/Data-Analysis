{
 "cells": [
  {
   "cell_type": "code",
   "execution_count": 16,
   "id": "1b5bcaa1-14ef-46a4-bc5c-5bfb0d912a26",
   "metadata": {},
   "outputs": [
    {
     "data": {
      "text/plain": [
       "'Artificial Intelligence (AI) is a fast progressing domain in the tech industry. It provides technology the ability to process real world objects and hence gives it the possibility to interact with them. Most common type of AI apps uses natural language processing.\\n\\nAI objects uses large dictionaries which specifies how to react to various actions. The lasrge amount of dictionary gives it more intelligence in terms of technology. They sometimes also uses various decision taking algorithms which too makes a good usage of AI.\\n\\nWe are also working on various apps related to AI that can make interaction with AI of non tech common person easier.'"
      ]
     },
     "execution_count": 16,
     "metadata": {},
     "output_type": "execute_result"
    }
   ],
   "source": [
    "fd=open('large data.txt','r')\n",
    "f=fd.read()\n",
    "fd.close()\n",
    "f"
   ]
  },
  {
   "cell_type": "code",
   "execution_count": 18,
   "id": "174a0046-353e-42b8-ac0d-e37fd8272e54",
   "metadata": {},
   "outputs": [
    {
     "name": "stdout",
     "output_type": "stream",
     "text": [
      "Artificial Intelligence (AI) is a fast progressing domain in the tech industry. It provides technology the ability to process real world objects and hence gives it the possibility to interact with them. Most common type of AI apps uses natural language processing.\n",
      "\n",
      "AI objects uses large dictionaries which specifies how to react to various actions. The lasrge amount of dictionary gives it more intelligence in terms of technology. They sometimes also uses various decision taking algorithms which too makes a good usage of AI.\n",
      "\n",
      "We are also working on various apps related to AI that can make interaction with AI of non tech common person easier.\n"
     ]
    }
   ],
   "source": [
    "print(f)"
   ]
  },
  {
   "cell_type": "code",
   "execution_count": 20,
   "id": "1ea0f23e-900e-428e-809f-4c8ac0978d2e",
   "metadata": {},
   "outputs": [
    {
     "data": {
      "text/plain": [
       "str"
      ]
     },
     "execution_count": 20,
     "metadata": {},
     "output_type": "execute_result"
    }
   ],
   "source": [
    "type(f)"
   ]
  },
  {
   "cell_type": "code",
   "execution_count": 22,
   "id": "94cd6ce2-9dad-4e54-a8ad-48c7710016e5",
   "metadata": {},
   "outputs": [
    {
     "data": {
      "text/plain": [
       "'Artificial Intelligence (AI) is a fast progressing domain in the tech industry. It provides technology the ability to process real world objects and hence gives it the possibility to interact with them. Most common type of AI apps uses natural language processing.\\n\\nAI objects uses large dictionaries which specifies how to react to various actions. The lasrge amount of dictionary gives it more intelligence in terms of technology. They sometimes also uses various decision taking algorithms which too makes a good usage of AI.\\n\\nWe are also working on various apps related to AI that can make interaction with AI of non tech common person easier.'"
      ]
     },
     "execution_count": 22,
     "metadata": {},
     "output_type": "execute_result"
    }
   ],
   "source": [
    "f"
   ]
  },
  {
   "cell_type": "code",
   "execution_count": 24,
   "id": "9948370a-2c96-47fa-8488-43466f03aea2",
   "metadata": {},
   "outputs": [
    {
     "data": {
      "text/plain": [
       "['Artificial Intelligence (AI) is a fast progressing domain in the tech industry. It provides technology the ability to process real world objects and hence gives it the possibility to interact with them. Most common type of AI apps uses natural language processing.',\n",
       " 'AI objects uses large dictionaries which specifies how to react to various actions. The lasrge amount of dictionary gives it more intelligence in terms of technology. They sometimes also uses various decision taking algorithms which too makes a good usage of AI.',\n",
       " 'We are also working on various apps related to AI that can make interaction with AI of non tech common person easier.']"
      ]
     },
     "execution_count": 24,
     "metadata": {},
     "output_type": "execute_result"
    }
   ],
   "source": [
    "f.split(\"\\n\\n\")"
   ]
  },
  {
   "cell_type": "code",
   "execution_count": 26,
   "id": "1f14ebe4-a457-41bb-8b06-9e0f299cc3ee",
   "metadata": {},
   "outputs": [],
   "source": [
    "per=f.split(\"\\n\\n\")"
   ]
  },
  {
   "cell_type": "code",
   "execution_count": 28,
   "id": "92cd8097-a62d-4011-b0a6-39a46d71d390",
   "metadata": {},
   "outputs": [
    {
     "data": {
      "text/plain": [
       "list"
      ]
     },
     "execution_count": 28,
     "metadata": {},
     "output_type": "execute_result"
    }
   ],
   "source": [
    "type(per)"
   ]
  },
  {
   "cell_type": "code",
   "execution_count": 30,
   "id": "ad3bf5cd-26e2-4e5c-a1bd-6bb7015ef258",
   "metadata": {},
   "outputs": [
    {
     "data": {
      "text/plain": [
       "3"
      ]
     },
     "execution_count": 30,
     "metadata": {},
     "output_type": "execute_result"
    }
   ],
   "source": [
    "len(per)"
   ]
  },
  {
   "cell_type": "code",
   "execution_count": 32,
   "id": "5c5dcbdb-e2b7-4108-9ba1-975b364db435",
   "metadata": {},
   "outputs": [
    {
     "name": "stdout",
     "output_type": "stream",
     "text": [
      "Artificial Intelligence (AI) is a fast progressing domain in the tech industry. It provides technology the ability to process real world objects and hence gives it the possibility to interact with them. Most common type of AI apps uses natural language processing.\n",
      "AI objects uses large dictionaries which specifies how to react to various actions. The lasrge amount of dictionary gives it more intelligence in terms of technology. They sometimes also uses various decision taking algorithms which too makes a good usage of AI.\n",
      "We are also working on various apps related to AI that can make interaction with AI of non tech common person easier.\n"
     ]
    }
   ],
   "source": [
    "for i in per:\n",
    "    print(i)"
   ]
  },
  {
   "cell_type": "code",
   "execution_count": 38,
   "id": "6ddc7af7-daf3-4eea-a36e-4fe3f3f134f6",
   "metadata": {},
   "outputs": [],
   "source": [
    "## Lines"
   ]
  },
  {
   "cell_type": "code",
   "execution_count": 62,
   "id": "1a90bc95-c1b0-4ad6-a285-ccf221d0828b",
   "metadata": {},
   "outputs": [],
   "source": [
    "lines =f.split(\".\")"
   ]
  },
  {
   "cell_type": "code",
   "execution_count": 64,
   "id": "30c67525-9571-4992-bdab-62cd6c26c033",
   "metadata": {},
   "outputs": [
    {
     "name": "stdout",
     "output_type": "stream",
     "text": [
      "8\n"
     ]
    }
   ],
   "source": [
    "print(len(lines))\n"
   ]
  },
  {
   "cell_type": "code",
   "execution_count": 66,
   "id": "e4f50f41-163a-4975-90b7-615babb1a58a",
   "metadata": {},
   "outputs": [
    {
     "data": {
      "text/plain": [
       "'Artificial Intelligence (AI) is a fast progressing domain in the tech industry'"
      ]
     },
     "execution_count": 66,
     "metadata": {},
     "output_type": "execute_result"
    }
   ],
   "source": [
    "lines[0]"
   ]
  },
  {
   "cell_type": "code",
   "execution_count": 68,
   "id": "ef91e745-3478-4dbf-998d-94455c3643f0",
   "metadata": {},
   "outputs": [
    {
     "data": {
      "text/plain": [
       "['Artificial Intelligence (AI) is a fast progressing domain in the tech industry',\n",
       " ' It provides technology the ability to process real world objects and hence gives it the possibility to interact with them',\n",
       " ' Most common type of AI apps uses natural language processing',\n",
       " '\\n\\nAI objects uses large dictionaries which specifies how to react to various actions',\n",
       " ' The lasrge amount of dictionary gives it more intelligence in terms of technology',\n",
       " ' They sometimes also uses various decision taking algorithms which too makes a good usage of AI',\n",
       " '\\n\\nWe are also working on various apps related to AI that can make interaction with AI of non tech common person easier',\n",
       " '']"
      ]
     },
     "execution_count": 68,
     "metadata": {},
     "output_type": "execute_result"
    }
   ],
   "source": [
    "lines"
   ]
  },
  {
   "cell_type": "code",
   "execution_count": 70,
   "id": "1b2381ec-870d-4a06-872a-6eb6a327586e",
   "metadata": {},
   "outputs": [
    {
     "data": {
      "text/plain": [
       "''"
      ]
     },
     "execution_count": 70,
     "metadata": {},
     "output_type": "execute_result"
    }
   ],
   "source": [
    "lines[-1]"
   ]
  },
  {
   "cell_type": "code",
   "execution_count": null,
   "id": "28e407ee-bf46-4aca-a38e-d8904d0df918",
   "metadata": {},
   "outputs": [],
   "source": [
    "## Words "
   ]
  },
  {
   "cell_type": "code",
   "execution_count": 74,
   "id": "f14987bd-7ce9-4bc1-8d08-fc5471d128bd",
   "metadata": {},
   "outputs": [],
   "source": [
    "words=f.split(\" \")"
   ]
  },
  {
   "cell_type": "code",
   "execution_count": 78,
   "id": "76bccb63-7b2e-4f30-ae1c-1193b4db1e31",
   "metadata": {},
   "outputs": [
    {
     "data": {
      "text/plain": [
       "104"
      ]
     },
     "execution_count": 78,
     "metadata": {},
     "output_type": "execute_result"
    }
   ],
   "source": [
    "len(words)"
   ]
  },
  {
   "cell_type": "code",
   "execution_count": 80,
   "id": "ced94910-df95-4acf-bb20-dfeab07b9c71",
   "metadata": {},
   "outputs": [
    {
     "name": "stdout",
     "output_type": "stream",
     "text": [
      "['Artificial', 'Intelligence', '(AI)', 'is', 'a', 'fast', 'progressing', 'domain', 'in', 'the', 'tech', 'industry.', 'It', 'provides', 'technology', 'the', 'ability', 'to', 'process', 'real', 'world', 'objects', 'and', 'hence', 'gives', 'it', 'the', 'possibility', 'to', 'interact', 'with', 'them.', 'Most', 'common', 'type', 'of', 'AI', 'apps', 'uses', 'natural', 'language', 'processing.\\n\\nAI', 'objects', 'uses', 'large', 'dictionaries', 'which', 'specifies', 'how', 'to', 'react', 'to', 'various', 'actions.', 'The', 'lasrge', 'amount', 'of', 'dictionary', 'gives', 'it', 'more', 'intelligence', 'in', 'terms', 'of', 'technology.', 'They', 'sometimes', 'also', 'uses', 'various', 'decision', 'taking', 'algorithms', 'which', 'too', 'makes', 'a', 'good', 'usage', 'of', 'AI.\\n\\nWe', 'are', 'also', 'working', 'on', 'various', 'apps', 'related', 'to', 'AI', 'that', 'can', 'make', 'interaction', 'with', 'AI', 'of', 'non', 'tech', 'common', 'person', 'easier.']\n"
     ]
    }
   ],
   "source": [
    "print(words)"
   ]
  },
  {
   "cell_type": "code",
   "execution_count": 82,
   "id": "543496fd-19bf-4834-8ed9-8558dc0581a8",
   "metadata": {},
   "outputs": [
    {
     "data": {
      "text/plain": [
       "'Artificial'"
      ]
     },
     "execution_count": 82,
     "metadata": {},
     "output_type": "execute_result"
    }
   ],
   "source": [
    "words[0]"
   ]
  },
  {
   "cell_type": "code",
   "execution_count": 84,
   "id": "31846869-3163-473a-ac52-32f4125d0db7",
   "metadata": {},
   "outputs": [
    {
     "data": {
      "text/plain": [
       "'easier.'"
      ]
     },
     "execution_count": 84,
     "metadata": {},
     "output_type": "execute_result"
    }
   ],
   "source": [
    "words[-1]"
   ]
  },
  {
   "cell_type": "code",
   "execution_count": null,
   "id": "e060e69e-2f43-401c-8b24-623c48dba9d9",
   "metadata": {},
   "outputs": [],
   "source": [
    "# for i in range[7,19]:\n",
    "#     patt=\"[\" + stri(i) + \"]\"\n",
    "#     f=f.replace(pattern,\"\")"
   ]
  },
  {
   "cell_type": "code",
   "execution_count": 86,
   "id": "8b1f7237-f618-4df4-9fd7-f5fdd1c65eaa",
   "metadata": {},
   "outputs": [
    {
     "data": {
      "text/plain": [
       "'AI Intelligence (AI) is a fast progressing domain in the tech industry. It provides technology the ability to process real world objects and hence gives it the possibility to interact with them. Most common type of AI apps uses natural language processing.\\n\\nAI objects uses large dictionaries which specifies how to react to various actions. The lasrge amount of dictionary gives it more intelligence in terms of technology. They sometimes also uses various decision taking algorithms which too makes a good usage of AI.\\n\\nWe are also working on various apps related to AI that can make interaction with AI of non tech common person easier.'"
      ]
     },
     "execution_count": 86,
     "metadata": {},
     "output_type": "execute_result"
    }
   ],
   "source": [
    "f.replace(\"Artificial\",\"AI\")\n",
    "#replace fun only take strings"
   ]
  },
  {
   "cell_type": "code",
   "execution_count": null,
   "id": "3f09eff7-eb63-4af2-8904-2373cd0781af",
   "metadata": {},
   "outputs": [],
   "source": [
    "  "
   ]
  }
 ],
 "metadata": {
  "kernelspec": {
   "display_name": "Python 3 (ipykernel)",
   "language": "python",
   "name": "python3"
  },
  "language_info": {
   "codemirror_mode": {
    "name": "ipython",
    "version": 3
   },
   "file_extension": ".py",
   "mimetype": "text/x-python",
   "name": "python",
   "nbconvert_exporter": "python",
   "pygments_lexer": "ipython3",
   "version": "3.12.4"
  }
 },
 "nbformat": 4,
 "nbformat_minor": 5
}
