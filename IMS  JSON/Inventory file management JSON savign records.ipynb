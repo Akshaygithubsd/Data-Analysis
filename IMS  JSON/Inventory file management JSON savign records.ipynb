{
 "cells": [
  {
   "cell_type": "code",
   "execution_count": 41,
   "id": "f8ceb5aa-fbff-44cc-8bf1-3456e5db23b8",
   "metadata": {},
   "outputs": [
    {
     "data": {
      "text/plain": [
       "{1001: {'Name': 'hello', 'price': 5, 'Quanti': 5},\n",
       " 1002: {'Name': 'world', 'price': 8, 'Quanti': 500},\n",
       " 1003: {'Name': 'Akshay', 'price': 5, 'Quanti': 100}}"
      ]
     },
     "execution_count": 41,
     "metadata": {},
     "output_type": "execute_result"
    }
   ],
   "source": [
    "import json\n",
    "record= {1001:{\"Name\":\"hello\", \"price\":5,\"Quanti\":5},\n",
    "         1002:{\"Name\":\"world\", \"price\":8,\"Quanti\":500},\n",
    "         1003:{\"Name\":\"Akshay\", \"price\":5,\"Quanti\":100}}\n",
    "record"
   ]
  },
  {
   "cell_type": "code",
   "execution_count": 43,
   "id": "638f57e5-d8f3-4388-a367-deaea2736d94",
   "metadata": {},
   "outputs": [
    {
     "data": {
      "text/plain": [
       "'hello'"
      ]
     },
     "execution_count": 43,
     "metadata": {},
     "output_type": "execute_result"
    }
   ],
   "source": [
    "record[1001][\"Name\"]"
   ]
  },
  {
   "cell_type": "code",
   "execution_count": 45,
   "id": "352b7963-63fd-4e28-a307-a10267499c68",
   "metadata": {},
   "outputs": [
    {
     "data": {
      "text/plain": [
       "{1001: {'Name': 'hello', 'price': 5, 'Quanti': 5},\n",
       " 1002: {'Name': 'world', 'price': 8, 'Quanti': 500},\n",
       " 1003: {'Name': 'Akshay', 'price': 5, 'Quanti': 100}}"
      ]
     },
     "execution_count": 45,
     "metadata": {},
     "output_type": "execute_result"
    }
   ],
   "source": [
    "record"
   ]
  },
  {
   "cell_type": "code",
   "execution_count": 47,
   "id": "e8d63185-cd29-4089-9817-ca74461bcda4",
   "metadata": {},
   "outputs": [
    {
     "data": {
      "text/plain": [
       "5"
      ]
     },
     "execution_count": 47,
     "metadata": {},
     "output_type": "execute_result"
    }
   ],
   "source": [
    "record[1001][\"Name\"]\n",
    "record[1001][\"price\"]"
   ]
  },
  {
   "cell_type": "code",
   "execution_count": 29,
   "id": "4ce3a80e-a6de-4f87-85fa-b63ab66a4a2e",
   "metadata": {},
   "outputs": [
    {
     "name": "stdout",
     "output_type": "stream",
     "text": [
      "hello\n",
      "5\n"
     ]
    }
   ],
   "source": [
    "print(record[1001][\"Name\"])\n",
    "print(record[1001][\"price\"])"
   ]
  },
  {
   "cell_type": "code",
   "execution_count": 80,
   "id": "f9c16e29-577c-4e48-9373-e0cb29c36bc7",
   "metadata": {},
   "outputs": [
    {
     "name": "stdout",
     "output_type": "stream",
     "text": [
      "1001 : hello 5 5\n",
      "1002 : world 8 500\n",
      "1003 : Akshay 5 100\n",
      "--------------------------------------------\n",
      "\n"
     ]
    },
    {
     "name": "stdin",
     "output_type": "stream",
     "text": [
      "enter prod id 1001\n",
      "enter quantity 2\n"
     ]
    },
    {
     "name": "stdout",
     "output_type": "stream",
     "text": [
      "hello\n",
      "5\n",
      "2\n",
      "--------------------------------------------\n",
      "\n",
      "10\n"
     ]
    }
   ],
   "source": [
    "import json\n",
    "#loading inventory records from json to string\n",
    "fd=open(\"Record.json\",\"r\")\n",
    "js=fd.read()\n",
    "fd.close()\n",
    "#convtng string records to dict/json\n",
    "record=json.loads(js)\n",
    "for key in record:\n",
    "    # print(key)\n",
    "    # print(record[key])\n",
    "    print(key,\":\",record[key]['Name'],record[key]['price'],record[key]['Quanti'])\n",
    "print(\"--------------------------------------------\\n\")\n",
    "ui_pr=str(input(\"enter prod id\"))\n",
    "ui_qn=int(input(\"enter quantity\"))\n",
    "\n",
    "if(record[ui_pr]['Quanti']>=ui_qn):\n",
    "    record[ui_pr]['Quanti']=record[ui_pr]['Quanti']-ui_qn\n",
    "    print(record[ui_pr]['Name'])\n",
    "    print(record[ui_pr]['Quanti'])\n",
    "    print(ui_qn)\n",
    "    print(\"--------------------------------------------\\n\")\n",
    "    print(\"total billing amount\",record[ui_pr]['price']*ui_qn)\n",
    "else:\n",
    "    print(\"sorry we don't have that much quantity\")\n",
    "    print(\"we r only \", record[ui_pr]['Quanti'],'quantity')\n",
    "\n",
    "    ch=str(input(\"if u want to purchase pressY/y\"))\n",
    "    if(ch=='Y' or ch=='y'):\n",
    "        \n",
    "        print(record[ui_pr]['Name'])\n",
    "        print(record[ui_pr]['Quanti'])\n",
    "        print(ui_qn)\n",
    "        print(\"--------------------------------------------\\n\")\n",
    "        print(\"total billing amount\",record[ui_pr]['price']*record[ui_pr]['Quanti'])\n",
    "        record[ui_pr]['Quanti']=0\n",
    "    else:\n",
    "        print(\"thanks\")\n",
    "\n",
    "#conrtng json to string\n",
    "js=json.dumps(record)\n",
    "js\n",
    "#saving records in json file \n",
    "fd=open(\"Record.json\",\"w\")\n",
    "fd.write(js)\n",
    "fd.close()"
   ]
  },
  {
   "cell_type": "code",
   "execution_count": 51,
   "id": "290fa68b-cda1-481d-b420-46e22c89d064",
   "metadata": {},
   "outputs": [
    {
     "data": {
      "text/plain": [
       "{1001: {'Name': 'hello', 'price': 5, 'Quanti': 5},\n",
       " 1002: {'Name': 'world', 'price': 8, 'Quanti': 500},\n",
       " 1003: {'Name': 'Akshay', 'price': 5, 'Quanti': 100}}"
      ]
     },
     "execution_count": 51,
     "metadata": {},
     "output_type": "execute_result"
    }
   ],
   "source": [
    "record"
   ]
  },
  {
   "cell_type": "code",
   "execution_count": 61,
   "id": "2ed14776-2076-483f-99f3-eddc408dba77",
   "metadata": {},
   "outputs": [
    {
     "data": {
      "text/plain": [
       "'{\"1001\": {\"Name\": \"hello\", \"price\": 5, \"Quanti\": 5}, \"1002\": {\"Name\": \"world\", \"price\": 8, \"Quanti\": 500}, \"1003\": {\"Name\": \"Akshay\", \"price\": 5, \"Quanti\": 100}}'"
      ]
     },
     "execution_count": 61,
     "metadata": {},
     "output_type": "execute_result"
    }
   ],
   "source": [
    "js=json.dumps(record)\n",
    "js"
   ]
  },
  {
   "cell_type": "code",
   "execution_count": 59,
   "id": "41f26785-0726-4a94-9637-04342d3b3c9d",
   "metadata": {},
   "outputs": [
    {
     "data": {
      "text/plain": [
       "str"
      ]
     },
     "execution_count": 59,
     "metadata": {},
     "output_type": "execute_result"
    }
   ],
   "source": [
    "type(js)"
   ]
  },
  {
   "cell_type": "markdown",
   "id": "8871ad18-677d-4852-b826-4588b33e799c",
   "metadata": {},
   "source": [
    "Here whole dictionary is conv into str"
   ]
  },
  {
   "cell_type": "code",
   "execution_count": 67,
   "id": "60edf86f-ef1c-4dd8-b758-f4a6ed4089a3",
   "metadata": {},
   "outputs": [],
   "source": [
    "fd=open(\"Record.json\",\"w\")\n",
    "fd.write(js)\n",
    "fd.close()"
   ]
  },
  {
   "cell_type": "code",
   "execution_count": 72,
   "id": "873d82c1-21af-4484-a426-6e8e50d34e66",
   "metadata": {},
   "outputs": [
    {
     "name": "stdout",
     "output_type": "stream",
     "text": [
      " Volume in drive C is OS\n",
      " Volume Serial Number is A492-CF05\n",
      "\n",
      " Directory of C:\\Users\\mansi\\OneDrive\\Desktop\\IMS  JSON\n",
      "\n",
      "06-07-2025  12:19    <DIR>          .\n",
      "04-07-2025  11:00    <DIR>          ..\n",
      "04-07-2025  11:12    <DIR>          .ipynb_checkpoints\n",
      "06-07-2025  12:19             6,005 Inventory file management JSON.ipynb\n",
      "06-07-2025  12:20               161 Record.json\n",
      "               2 File(s)          6,166 bytes\n",
      "               3 Dir(s)  41,771,786,240 bytes free\n"
     ]
    }
   ],
   "source": [
    "ls"
   ]
  },
  {
   "cell_type": "code",
   "execution_count": 76,
   "id": "43f59262-0309-4e55-821c-5ddc84434f96",
   "metadata": {},
   "outputs": [
    {
     "data": {
      "text/plain": [
       "'{\"1001\": {\"Name\": \"hello\", \"price\": 5, \"Quanti\": 5}, \"1002\": {\"Name\": \"world\", \"price\": 8, \"Quanti\": 500}, \"1003\": {\"Name\": \"Akshay\", \"price\": 5, \"Quanti\": 100}}'"
      ]
     },
     "execution_count": 76,
     "metadata": {},
     "output_type": "execute_result"
    }
   ],
   "source": [
    "js"
   ]
  },
  {
   "cell_type": "code",
   "execution_count": 78,
   "id": "a54bd33e-521d-47bb-a8b8-a32a5e06b3f9",
   "metadata": {},
   "outputs": [
    {
     "data": {
      "text/plain": [
       "{'1001': {'Name': 'hello', 'price': 5, 'Quanti': 5},\n",
       " '1002': {'Name': 'world', 'price': 8, 'Quanti': 500},\n",
       " '1003': {'Name': 'Akshay', 'price': 5, 'Quanti': 100}}"
      ]
     },
     "execution_count": 78,
     "metadata": {},
     "output_type": "execute_result"
    }
   ],
   "source": [
    "json.loads(js)"
   ]
  },
  {
   "cell_type": "code",
   "execution_count": null,
   "id": "b99517c5-7d1b-43f6-bb2d-a2d15f3b0d0d",
   "metadata": {},
   "outputs": [],
   "source": [
    "fd=open(\"Record.json\",\"r\")\n",
    "js=fd.read()\n",
    "fd.close()"
   ]
  }
 ],
 "metadata": {
  "kernelspec": {
   "display_name": "Python 3 (ipykernel)",
   "language": "python",
   "name": "python3"
  },
  "language_info": {
   "codemirror_mode": {
    "name": "ipython",
    "version": 3
   },
   "file_extension": ".py",
   "mimetype": "text/x-python",
   "name": "python",
   "nbconvert_exporter": "python",
   "pygments_lexer": "ipython3",
   "version": "3.12.4"
  }
 },
 "nbformat": 4,
 "nbformat_minor": 5
}
